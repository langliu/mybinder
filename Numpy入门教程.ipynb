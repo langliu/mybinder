{
 "cells": [
  {
   "cell_type": "markdown",
   "metadata": {
    "pycharm": {
     "name": "#%% md\n"
    }
   },
   "source": [
    "# numpy入门教程"
   ]
  },
  {
   "cell_type": "code",
   "execution_count": 1,
   "metadata": {
    "jupyter": {
     "outputs_hidden": false
    },
    "pycharm": {
     "is_executing": false,
     "name": "#%%\n"
    }
   },
   "outputs": [],
   "source": [
    "# 引入numpy\n",
    "import numpy as np\n",
    "import matplotlib.pyplot as plt"
   ]
  },
  {
   "cell_type": "markdown",
   "metadata": {},
   "source": [
    "## 创建一个数组"
   ]
  },
  {
   "cell_type": "code",
   "execution_count": 2,
   "metadata": {
    "jupyter": {
     "outputs_hidden": false
    },
    "pycharm": {
     "is_executing": false,
     "name": "#%%\n"
    }
   },
   "outputs": [
    {
     "name": "stdout",
     "output_type": "stream",
     "text": [
      "[0 1 2 3 4]\n",
      "[0 1 2 3 4]\n",
      "[0 1 2 3 4]\n",
      "[0.         1.57079633 3.14159265 4.71238898 6.28318531]\n",
      "[0.2463272  0.27344576 0.09766084 0.05822701 0.91175645]\n",
      "[ 1.01592904  0.42805881  0.26107409 -0.53971163  1.87724022]\n",
      "3\n"
     ]
    }
   ],
   "source": [
    "# 一维数组\n",
    "a = np.array([0, 1, 2, 3, 4])\n",
    "b = np.array((0, 1, 2, 3, 4))\n",
    "c = np.arange(5)\n",
    "d = np.linspace(0, 2*np.pi, 5) # 从0到2PI之间取5个数，均匀取\n",
    "e = np.random.rand(5)\n",
    "f = np.random.randn(5)\n",
    "\n",
    "print(a) \n",
    "print(b) \n",
    "print(c) \n",
    "print(d) \n",
    "print(e) \n",
    "print(f) \n",
    "print(a[3]) "
   ]
  },
  {
   "cell_type": "code",
   "execution_count": 3,
   "metadata": {
    "jupyter": {
     "outputs_hidden": false
    },
    "pycharm": {
     "is_executing": false,
     "name": "#%%\n"
    }
   },
   "outputs": [
    {
     "name": "stdout",
     "output_type": "stream",
     "text": [
      "[[11 12 13 14 15]\n",
      " [16 17 18 19 20]\n",
      " [21 22 23 24 25]\n",
      " [26 27 28 29 30]\n",
      " [31 32 33 34 35]]\n",
      "[[ 4 12  0 60 50]\n",
      " [21 86 99  5 64]\n",
      " [ 4 35 55 75 79]\n",
      " [76 15 26  9 14]\n",
      " [78 43 20 59 42]]\n",
      "[[34.8067734  13.17165864  6.72360553 43.70200805 91.92828642]\n",
      " [ 4.32058201 46.66816271  8.43123704 76.29602652 83.36427984]\n",
      " [ 0.64158502 65.10852803  7.08067267 55.23919914 36.76935873]\n",
      " [61.30927038 79.58508782 44.1375644  82.23856239 60.49945357]\n",
      " [23.12190075 20.38757806 99.64173654 71.5314935  66.03524583]]\n",
      "[0.         3.14159265 6.28318531]\n"
     ]
    }
   ],
   "source": [
    "# 二维数组\n",
    "a1 = np.array([[11, 12, 13, 14, 15],\n",
    "              [16, 17, 18, 19, 20],\n",
    "              [21, 22, 23, 24, 25],\n",
    "              [26, 27, 28 ,29, 30],\n",
    "              [31, 32, 33, 34, 35]]) # 从已有的二维列表生成\n",
    "b1 = np.random.randint(0, 100, (5, 5)) # 从0到100之间的随机整数生成5x5的二维数组 \n",
    "c1 = np.random.random((5, 5))*100\n",
    "\n",
    "print(a1) # >>>25\n",
    "print(b1)\n",
    "print(c1)\n",
    "print(d[::2])"
   ]
  },
  {
   "cell_type": "code",
   "execution_count": 4,
   "metadata": {
    "jupyter": {
     "outputs_hidden": false
    },
    "pycharm": {
     "is_executing": false,
     "name": "#%%\n"
    }
   },
   "outputs": [
    {
     "name": "stdout",
     "output_type": "stream",
     "text": [
      "[11 12 13]\n",
      "[14 19 24]\n",
      "[[11 12 13]\n",
      " [16 17 18]\n",
      " [21 22 23]]\n",
      "[[11 13 15]\n",
      " [21 23 25]\n",
      " [31 33 35]]\n"
     ]
    }
   ],
   "source": [
    "# 多维数组的切片\n",
    "print(a1[0, :3]) # 第1行1至3列\n",
    "print(a1[0:3, 3]) # 第4列1至3行\n",
    "print(a1[0:3, 0:3]) # 截取第1至3行中1至3列\n",
    "print(a1[::2, ::2]) # 截取单行单列"
   ]
  },
  {
   "cell_type": "markdown",
   "metadata": {},
   "source": [
    "基本操作符\n",
    "只是能够从数组中创建和检索元素和属性不能满足你的需求，你有时也需要对它们进行数学运算。 你完全可以使用四则运算符 +、- 、/ 来完成运算操作。\n"
   ]
  },
  {
   "cell_type": "code",
   "execution_count": 5,
   "metadata": {
    "jupyter": {
     "outputs_hidden": false
    },
    "pycharm": {
     "is_executing": false,
     "name": "#%% \n"
    }
   },
   "outputs": [
    {
     "name": "stdout",
     "output_type": "stream",
     "text": [
      "[[ 0  1  2  3  4]\n",
      " [ 5  6  7  8  9]\n",
      " [10 11 12 13 14]\n",
      " [15 16 17 18 19]\n",
      " [20 21 22 23 24]]\n",
      "[[10 62  1 14  2]\n",
      " [56 79  2  1 45]\n",
      " [ 4 92  5 55 63]\n",
      " [43 35  6 53 24]\n",
      " [56  3 56 44 78]]\n",
      "[[ 10  63   3  17   6]\n",
      " [ 61  85   9   9  54]\n",
      " [ 14 103  17  68  77]\n",
      " [ 58  51  23  71  43]\n",
      " [ 76  24  78  67 102]]\n",
      "[[-10 -61   1 -11   2]\n",
      " [-51 -73   5   7 -36]\n",
      " [  6 -81   7 -42 -49]\n",
      " [-28 -19  11 -35  -5]\n",
      " [-36  18 -34 -21 -54]]\n",
      "[[   0   62    2   42    8]\n",
      " [ 280  474   14    8  405]\n",
      " [  40 1012   60  715  882]\n",
      " [ 645  560  102  954  456]\n",
      " [1120   63 1232 1012 1872]]\n",
      "[[0.         0.01612903 2.         0.21428571 2.        ]\n",
      " [0.08928571 0.07594937 3.5        8.         0.2       ]\n",
      " [2.5        0.11956522 2.4        0.23636364 0.22222222]\n",
      " [0.34883721 0.45714286 2.83333333 0.33962264 0.79166667]\n",
      " [0.35714286 7.         0.39285714 0.52272727 0.30769231]]\n",
      "[[  0   1   4   9  16]\n",
      " [ 25  36  49  64  81]\n",
      " [100 121 144 169 196]\n",
      " [225 256 289 324 361]\n",
      " [400 441 484 529 576]]\n",
      "[[ True  True False  True False]\n",
      " [ True  True False False  True]\n",
      " [False  True False  True  True]\n",
      " [ True  True False  True  True]\n",
      " [ True False  True  True  True]]\n",
      "[[False False  True False  True]\n",
      " [False False  True  True False]\n",
      " [ True False  True False False]\n",
      " [False False  True False False]\n",
      " [False  True False False False]]\n",
      "[[ 417  380  254  446  555]\n",
      " [1262 1735  604 1281 1615]\n",
      " [2107 3090  954 2116 2675]\n",
      " [2952 4445 1304 2951 3735]\n",
      " [3797 5800 1654 3786 4795]]\n"
     ]
    }
   ],
   "source": [
    "a = np.arange(25)\n",
    "a = a.reshape((5, 5))\n",
    "\n",
    "b = np.array([10, 62, 1, 14, 2, 56, 79, 2, 1, 45,\n",
    "              4, 92, 5, 55, 63, 43, 35, 6, 53, 24,\n",
    "              56, 3, 56, 44, 78])\n",
    "b = b.reshape((5,5))\n",
    "print(a)\n",
    "print(b)\n",
    "print(a + b)\n",
    "print(a - b)\n",
    "print(a * b)\n",
    "print(a / b)\n",
    "print(a ** 2)\n",
    "print(a < b) \n",
    "print(a > b)\n",
    "\n",
    "print(a.dot(b))"
   ]
  },
  {
   "cell_type": "markdown",
   "metadata": {},
   "source": [
    "除了 `dot()` 之外，这些操作符都是对数组进行逐元素运算。比如 `(a, b, c) + (d, e, f)` 的结果就是 `(a+d, b+e, c+f)` 。\n",
    "它将分别对每一个元素进行配对，然后对它们进行运算。它返回的结果是一个数组。注意，当使用逻辑运算符比如 “<” 和 “>” 的时候，返回的将是一个布尔型数组，这点有一个很好的用处，后边我们会提到。\n",
    "\n",
    "`dot()` 函数计算两个数组的点积。它返回的是一个标量（只有大小没有方向的一个值）而不是数组。"
   ]
  },
  {
   "cell_type": "code",
   "execution_count": 6,
   "metadata": {
    "jupyter": {
     "outputs_hidden": false
    },
    "pycharm": {
     "is_executing": false,
     "name": "#%%\n"
    }
   },
   "outputs": [
    {
     "data": {
      "text/plain": [
       "[<matplotlib.lines.Line2D at 0x196e6bb2438>]"
      ]
     },
     "execution_count": 6,
     "metadata": {},
     "output_type": "execute_result"
    },
    {
     "data": {
      "image/png": "[encoded data removed]",
      "text/plain": [
       "<Figure size 432x288 with 1 Axes>"
      ]
     },
     "metadata": {
      "needs_background": "light"
     },
     "output_type": "display_data"
    }
   ],
   "source": [
    "a2 = np.linspace(0, 2 * np.pi, 50)\n",
    "b2 = np.sin(a2)\n",
    "\n",
    "plt.plot(a2, b2)\n",
    "\n",
    "mask = b2 > 0\n",
    "plt.plot(a2[mask], b2[mask], 'bo')\n",
    "mask = (b2 >= 0) & (a2 <= np.pi / 2)\n",
    "plt.plot(a2[mask], b2[mask], 'go')"
   ]
  },
  {
   "cell_type": "code",
   "execution_count": 7,
   "metadata": {
    "jupyter": {
     "outputs_hidden": false
    },
    "pycharm": {
     "is_executing": false,
     "name": "#%%\n"
    }
   },
   "outputs": [],
   "source": [
    "url = 'https://archive.ics.uci.edu/ml/machine-learning-databases/iris/iris.data'\n",
    "iris = np.genfromtxt(url, delimiter=',', dtype='object')\n",
    "names = ('sepallength', 'sepalwidth', 'petallength', 'petalwidth', 'species')\n",
    "sepal_length = np.genfromtxt(url,delimiter=',',dtype='float',usecols=[0])"
   ]
  },
  {
   "cell_type": "code",
   "execution_count": 8,
   "metadata": {
    "jupyter": {
     "outputs_hidden": false
    },
    "pycharm": {
     "is_executing": false,
     "name": "#%%\n"
    }
   },
   "outputs": [
    {
     "name": "stdout",
     "output_type": "stream",
     "text": [
      "[5.1 4.9 4.7 4.6 5.  5.4 4.6 5.  4.4 4.9 5.4 4.8 4.8 4.3 5.8 5.7 5.4 5.1\n",
      " 5.7 5.1 5.4 5.1 4.6 5.1 4.8 5.  5.  5.2 5.2 4.7 4.8 5.4 5.2 5.5 4.9 5.\n",
      " 5.5 4.9 4.4 5.1 5.  4.5 4.4 5.  5.1 4.8 5.1 4.6 5.3 5.  7.  6.4 6.9 5.5\n",
      " 6.5 5.7 6.3 4.9 6.6 5.2 5.  5.9 6.  6.1 5.6 6.7 5.6 5.8 6.2 5.6 5.9 6.1\n",
      " 6.3 6.1 6.4 6.6 6.8 6.7 6.  5.7 5.5 5.5 5.8 6.  5.4 6.  6.7 6.3 5.6 5.5\n",
      " 5.5 6.1 5.8 5.  5.6 5.7 5.7 6.2 5.1 5.7 6.3 5.8 7.1 6.3 6.5 7.6 4.9 7.3\n",
      " 6.7 7.2 6.5 6.4 6.8 5.7 5.8 6.4 6.5 7.7 7.7 6.  6.9 5.6 7.7 6.3 6.7 7.2\n",
      " 6.2 6.1 6.4 7.2 7.4 7.9 6.4 6.3 6.1 7.7 6.3 6.4 6.  6.9 6.7 6.9 5.8 6.8\n",
      " 6.7 6.7 6.3 6.5 6.2 5.9]\n",
      "[[b'5.1' b'3.5' b'1.4' b'0.2' b'Iris-setosa']\n",
      " [b'4.9' b'3.0' b'1.4' b'0.2' b'Iris-setosa']\n",
      " [b'4.7' b'3.2' b'1.3' b'0.2' b'Iris-setosa']\n",
      " [b'4.6' b'3.1' b'1.5' b'0.2' b'Iris-setosa']]\n",
      "[b'Iris-setosa' b'Iris-setosa' b'Iris-setosa' b'Iris-setosa']\n"
     ]
    }
   ],
   "source": [
    "print(sepal_length)\n",
    "print(iris[:4])\n",
    "print(iris[:4, 4])"
   ]
  },
  {
   "cell_type": "code",
   "execution_count": 9,
   "metadata": {
    "jupyter": {
     "outputs_hidden": false
    },
    "pycharm": {
     "is_executing": false,
     "name": "#%%\n"
    }
   },
   "outputs": [
    {
     "data": {
      "text/plain": [
       "array([[7.866, 5.204, 9.457, 6.78 , 7.459],\n",
       "       [9.889, 9.502, 8.318, 9.11 , 9.303],\n",
       "       [5.283, 7.421, 5.048, 7.056, 9.331],\n",
       "       [7.86 , 6.855, 7.683, 7.769, 7.489],\n",
       "       [6.183, 8.209, 9.189, 6.505, 8.293]])"
      ]
     },
     "execution_count": 9,
     "metadata": {},
     "output_type": "execute_result"
    }
   ],
   "source": [
    "# 创建包含5到10之间随机浮动的二维数组\n",
    "np.set_printoptions(precision=3)\n",
    "np.random.uniform(5,10,(5,5))"
   ]
  },
  {
   "cell_type": "code",
   "execution_count": 10,
   "metadata": {
    "jupyter": {
     "outputs_hidden": false
    },
    "pycharm": {
     "is_executing": false,
     "name": "#%%\n"
    }
   },
   "outputs": [
    {
     "data": {
      "text/plain": [
       "array([[0.000962, 0.00039 , 0.00055 ],\n",
       "       [0.000336, 0.000645, 0.00048 ],\n",
       "       [0.000219, 0.000633, 0.000275]])"
      ]
     },
     "execution_count": 10,
     "metadata": {},
     "output_type": "execute_result"
    }
   ],
   "source": [
    "a = np.random.random((3,3))/1e3\n",
    "np.set_printoptions(precision=6,suppress=True)\n",
    "a"
   ]
  },
  {
   "cell_type": "code",
   "execution_count": 11,
   "metadata": {
    "jupyter": {
     "outputs_hidden": false
    },
    "pycharm": {
     "is_executing": false,
     "name": "#%%\n"
    }
   },
   "outputs": [
    {
     "name": "stdout",
     "output_type": "stream",
     "text": [
      "5.0 5.0 2.581988897471611\n"
     ]
    }
   ],
   "source": [
    "x = np.array([1,2,3,4,5,6,7,8,9])\n",
    "mu, med, sd = np.mean(x), np.median(x), np.std(x)\n",
    "print(mu, med, sd)"
   ]
  },
  {
   "cell_type": "code",
   "execution_count": 12,
   "metadata": {
    "jupyter": {
     "outputs_hidden": false
    },
    "pycharm": {
     "is_executing": false,
     "name": "#%%\n"
    }
   },
   "outputs": [
    {
     "name": "stdout",
     "output_type": "stream",
     "text": [
      "1.0\n",
      "[array([[0, 1, 2],\n",
      "       [0, 1, 2],\n",
      "       [0, 1, 2]]), array([[0, 0, 0],\n",
      "       [1, 1, 1],\n",
      "       [2, 2, 2]])]\n"
     ]
    }
   ],
   "source": [
    "points = np.arange(3)\n",
    "print(points.mean())\n",
    "print(np.meshgrid(points, points.T))\n"
   ]
  }
 ],
 "metadata": {
  "hide_input": false,
  "kernelspec": {
   "display_name": "Python 3",
   "language": "python",
   "name": "python3"
  },
  "language_info": {
   "codemirror_mode": {
    "name": "ipython",
    "version": 3
   },
   "file_extension": ".py",
   "mimetype": "text/x-python",
   "name": "python",
   "nbconvert_exporter": "python",
   "pygments_lexer": "ipython3",
   "version": "3.7.3"
  },
  "pycharm": {
   "stem_cell": {
    "cell_type": "raw",
    "metadata": {
     "collapsed": false
    },
    "source": []
   }
  },
  "toc": {
   "base_numbering": 1,
   "nav_menu": {},
   "number_sections": true,
   "sideBar": true,
   "skip_h1_title": false,
   "title_cell": "Table of Contents",
   "title_sidebar": "Contents",
   "toc_cell": false,
   "toc_position": {},
   "toc_section_display": true,
   "toc_window_display": false
  },
  "varInspector": {
   "cols": {
    "lenName": 16,
    "lenType": 16,
    "lenVar": 40
   },
   "kernels_config": {
    "python": {
     "delete_cmd_postfix": "",
     "delete_cmd_prefix": "del ",
     "library": "var_list.py",
     "varRefreshCmd": "print(var_dic_list())"
    },
    "r": {
     "delete_cmd_postfix": ") ",
     "delete_cmd_prefix": "rm(",
     "library": "var_list.r",
     "varRefreshCmd": "cat(var_dic_list()) "
    }
   },
   "types_to_exclude": [
    "module",
    "function",
    "builtin_function_or_method",
    "instance",
    "_Feature"
   ],
   "window_display": false
  }
 },
 "nbformat": 4,
 "nbformat_minor": 4
}
