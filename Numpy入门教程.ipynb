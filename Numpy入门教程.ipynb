{
 "cells": [
  {
   "cell_type": "markdown",
   "metadata": {
    "collapsed": true,
    "pycharm": {
     "name": "#%% md\n"
    }
   },
   "source": [
    "# numpy入门教程"
   ]
  },
  {
   "cell_type": "code",
   "execution_count": 2,
   "outputs": [],
   "source": [
    "# 引入numpy\n",
    "import numpy as np\n",
    "import matplotlib.pyplot as plt"
   ],
   "metadata": {
    "collapsed": false,
    "pycharm": {
     "name": "#%%\n",
     "is_executing": false
    }
   }
  },
  {
   "cell_type": "markdown",
   "source": [
    "## 创建一个数组"
   ],
   "metadata": {
    "collapsed": false
   }
  },
  {
   "cell_type": "code",
   "execution_count": 3,
   "outputs": [
    {
     "name": "stdout",
     "text": [
      "[0 1 2 3 4]\n[0 1 2 3 4]\n[0 1 2 3 4]\n[0.         1.57079633 3.14159265 4.71238898 6.28318531]\n[0.33667066 0.73297659 0.19567331 0.79863498 0.43639544]\n[-0.73143327  1.18395604  1.38478388  1.05672664 -0.33106573]\n3\n"
     ],
     "output_type": "stream"
    }
   ],
   "source": [
    "# 一维数组\n",
    "a = np.array([0, 1, 2, 3, 4])\n",
    "b = np.array((0, 1, 2, 3, 4))\n",
    "c = np.arange(5)\n",
    "d = np.linspace(0, 2*np.pi, 5) # 从0到2PI之间取5个数，均匀取\n",
    "e = np.random.rand(5)\n",
    "f = np.random.randn(5)\n",
    "\n",
    "print(a) \n",
    "print(b) \n",
    "print(c) \n",
    "print(d) \n",
    "print(e) \n",
    "print(f) \n",
    "print(a[3]) "
   ],
   "metadata": {
    "collapsed": false,
    "pycharm": {
     "name": "#%%\n",
     "is_executing": false
    }
   }
  },
  {
   "cell_type": "code",
   "execution_count": null,
   "outputs": [],
   "source": [
    "# 二维数组\n",
    "a1 = np.array([[11, 12, 13, 14, 15],\n",
    "              [16, 17, 18, 19, 20],\n",
    "              [21, 22, 23, 24, 25],\n",
    "              [26, 27, 28 ,29, 30],\n",
    "              [31, 32, 33, 34, 35]]) # 从已有的二维列表生成\n",
    "b1 = np.random.randint(0, 100, (5, 5)) # 从0到100之间的随机整数生成5x5的二维数组 \n",
    "c1 = np.random.random((5, 5))*100\n",
    "\n",
    "print(a1) # >>>25\n",
    "print(b1)\n",
    "print(c1)\n",
    "print(d[::2])"
   ],
   "metadata": {
    "collapsed": false,
    "pycharm": {
     "name": "#%%\n"
    }
   }
  },
  {
   "cell_type": "code",
   "execution_count": null,
   "outputs": [],
   "source": [
    "# 多维数组的切片\n",
    "print(a1[0, :3]) # 第1行1至3列\n",
    "print(a1[0:3, 3]) # 第4列1至3行\n",
    "print(a1[0:3, 0:3]) # 截取第1至3行中1至3列\n",
    "print(a1[::2, ::2]) # 截取单行单列"
   ],
   "metadata": {
    "collapsed": false,
    "pycharm": {
     "name": "#%%\n"
    }
   }
  },
  {
   "cell_type": "markdown",
   "source": [
    "基本操作符\n",
    "只是能够从数组中创建和检索元素和属性不能满足你的需求，你有时也需要对它们进行数学运算。 你完全可以使用四则运算符 +、- 、/ 来完成运算操作。\n"
   ],
   "metadata": {
    "collapsed": false
   }
  },
  {
   "cell_type": "code",
   "execution_count": null,
   "outputs": [],
   "source": [
    "a = np.arange(25)\n",
    "a = a.reshape((5, 5))\n",
    "\n",
    "b = np.array([10, 62, 1, 14, 2, 56, 79, 2, 1, 45,\n",
    "              4, 92, 5, 55, 63, 43, 35, 6, 53, 24,\n",
    "              56, 3, 56, 44, 78])\n",
    "b = b.reshape((5,5))\n",
    "print(a)\n",
    "print(b)\n",
    "print(a + b)\n",
    "print(a - b)\n",
    "print(a * b)\n",
    "print(a / b)\n",
    "print(a ** 2)\n",
    "print(a < b) \n",
    "print(a > b)\n",
    "\n",
    "print(a.dot(b))"
   ],
   "metadata": {
    "collapsed": false,
    "pycharm": {
     "name": "#%% \n"
    }
   }
  },
  {
   "cell_type": "markdown",
   "source": [
    "除了 `dot()` 之外，这些操作符都是对数组进行逐元素运算。比如 `(a, b, c) + (d, e, f)` 的结果就是 `(a+d, b+e, c+f)` 。\n",
    "它将分别对每一个元素进行配对，然后对它们进行运算。它返回的结果是一个数组。注意，当使用逻辑运算符比如 “<” 和 “>” 的时候，返回的将是一个布尔型数组，这点有一个很好的用处，后边我们会提到。\n",
    "\n",
    "`dot()` 函数计算两个数组的点积。它返回的是一个标量（只有大小没有方向的一个值）而不是数组。"
   ],
   "metadata": {
    "collapsed": false
   }
  },
  {
   "cell_type": "code",
   "execution_count": null,
   "outputs": [],
   "source": [
    "a2 = np.linspace(0, 2 * np.pi, 50)\n",
    "b2 = np.sin(a2)\n",
    "\n",
    "plt.plot(a2, b2)\n",
    "\n",
    "mask = b2 > 0\n",
    "plt.plot(a2[mask], b2[mask], 'bo')\n",
    "mask = (b2 >= 0) & (a2 <= np.pi / 2)\n",
    "plt.plot(a2[mask], b2[mask], 'go')"
   ],
   "metadata": {
    "collapsed": false,
    "pycharm": {
     "name": "#%%\n"
    }
   }
  },
  {
   "cell_type": "code",
   "execution_count": null,
   "outputs": [],
   "source": [
    "url = 'https://archive.ics.uci.edu/ml/machine-learning-databases/iris/iris.data'\n",
    "iris = np.genfromtxt(url, delimiter=',', dtype='object')\n",
    "names = ('sepallength', 'sepalwidth', 'petallength', 'petalwidth', 'species')\n",
    "sepal_length = np.genfromtxt(url,delimiter=',',dtype='float',usecols=[0])"
   ],
   "metadata": {
    "collapsed": false,
    "pycharm": {
     "name": "#%%\n"
    }
   }
  },
  {
   "cell_type": "code",
   "execution_count": null,
   "outputs": [],
   "source": [
    "print(sepal_length)\n",
    "print(iris[:4])\n",
    "print(iris[:4, 4])"
   ],
   "metadata": {
    "collapsed": false,
    "pycharm": {
     "name": "#%%\n"
    }
   }
  },
  {
   "cell_type": "code",
   "execution_count": null,
   "outputs": [],
   "source": [
    "# 创建包含5到10之间随机浮动的二维数组\n",
    "np.set_printoptions(precision=3)\n",
    "np.random.uniform(5,10,(5,5))"
   ],
   "metadata": {
    "collapsed": false,
    "pycharm": {
     "name": "#%%\n"
    }
   }
  },
  {
   "cell_type": "code",
   "execution_count": null,
   "outputs": [],
   "source": [
    "a = np.random.random((3,3))/1e3\n",
    "np.set_printoptions(precision=6,suppress=True)\n",
    "a"
   ],
   "metadata": {
    "collapsed": false,
    "pycharm": {
     "name": "#%%\n"
    }
   }
  },
  {
   "cell_type": "code",
   "execution_count": null,
   "outputs": [],
   "source": [
    "x = np.array([1,2,3,4,5,6,7,8,9])\n",
    "mu, med, sd = np.mean(x), np.median(x), np.std(x)\n",
    "print(mu, med, sd)"
   ],
   "metadata": {
    "collapsed": false,
    "pycharm": {
     "name": "#%%\n"
    }
   }
  },
  {
   "cell_type": "code",
   "execution_count": 18,
   "outputs": [
    {
     "name": "stdout",
     "text": [
      "1.0\n[array([[0, 1, 2],\n       [0, 1, 2],\n       [0, 1, 2]]), array([[0, 0, 0],\n       [1, 1, 1],\n       [2, 2, 2]])]\n"
     ],
     "output_type": "stream"
    }
   ],
   "source": [
    "points = np.arange(3)\n",
    "print(points.mean())\n",
    "print(np.meshgrid(points, points.T))\n"
   ],
   "metadata": {
    "collapsed": false,
    "pycharm": {
     "name": "#%%\n",
     "is_executing": false
    }
   }
  }
 ],
 "metadata": {
  "language_info": {
   "codemirror_mode": {
    "name": "ipython",
    "version": 2
   },
   "file_extension": ".py",
   "mimetype": "text/x-python",
   "name": "python",
   "nbconvert_exporter": "python",
   "pygments_lexer": "ipython2",
   "version": "2.7.6"
  },
  "kernelspec": {
   "name": "python3",
   "language": "python",
   "display_name": "Python 3"
  },
  "pycharm": {
   "stem_cell": {
    "cell_type": "raw",
    "source": [],
    "metadata": {
     "collapsed": false
    }
   }
  }
 },
 "nbformat": 4,
 "nbformat_minor": 0
}