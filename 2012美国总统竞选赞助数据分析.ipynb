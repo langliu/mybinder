{
 "nbformat": 4,
 "nbformat_minor": 2,
 "metadata": {
  "language_info": {
   "name": "python",
   "codemirror_mode": {
    "name": "ipython",
    "version": 3
   },
   "version": "3.7.6-final"
  },
  "orig_nbformat": 2,
  "file_extension": ".py",
  "mimetype": "text/x-python",
  "name": "python",
  "npconvert_exporter": "python",
  "pygments_lexer": "ipython3",
  "version": 3,
  "kernelspec": {
   "name": "python37664bitf2bffd19c0ad468da2a7bffed8f0b0de",
   "display_name": "Python 3.7.6 64-bit"
  }
 },
 "cells": [
  {
   "cell_type": "code",
   "execution_count": 2,
   "metadata": {},
   "outputs": [],
   "source": [
    "# 引入依赖库\n",
    "import numpy as np\n",
    "import pandas as pd\n",
    "import matplotlib.pyplot as plt"
   ]
  },
  {
   "cell_type": "code",
   "execution_count": 3,
   "metadata": {},
   "outputs": [
    {
     "data": {
      "text/html": "<div>\n<style scoped>\n    .dataframe tbody tr th:only-of-type {\n        vertical-align: middle;\n    }\n\n    .dataframe tbody tr th {\n        vertical-align: top;\n    }\n\n    .dataframe thead th {\n        text-align: right;\n    }\n</style>\n<table border=\"1\" class=\"dataframe\">\n  <thead>\n    <tr style=\"text-align: right;\">\n      <th></th>\n      <th>cand_nm</th>\n      <th>contbr_nm</th>\n      <th>contbr_st</th>\n      <th>contbr_employer</th>\n      <th>contbr_occupation</th>\n      <th>contb_receipt_amt</th>\n      <th>contb_receipt_dt</th>\n    </tr>\n  </thead>\n  <tbody>\n    <tr>\n      <th>0</th>\n      <td>Bachmann, Michelle</td>\n      <td>HARVEY, WILLIAM</td>\n      <td>AL</td>\n      <td>RETIRED</td>\n      <td>RETIRED</td>\n      <td>250.0</td>\n      <td>20-JUN-11</td>\n    </tr>\n    <tr>\n      <th>1</th>\n      <td>Bachmann, Michelle</td>\n      <td>HARVEY, WILLIAM</td>\n      <td>AL</td>\n      <td>RETIRED</td>\n      <td>RETIRED</td>\n      <td>50.0</td>\n      <td>23-JUN-11</td>\n    </tr>\n    <tr>\n      <th>2</th>\n      <td>Bachmann, Michelle</td>\n      <td>SMITH, LANIER</td>\n      <td>AL</td>\n      <td>INFORMATION REQUESTED</td>\n      <td>INFORMATION REQUESTED</td>\n      <td>250.0</td>\n      <td>05-JUL-11</td>\n    </tr>\n    <tr>\n      <th>3</th>\n      <td>Bachmann, Michelle</td>\n      <td>BLEVINS, DARONDA</td>\n      <td>AR</td>\n      <td>NONE</td>\n      <td>RETIRED</td>\n      <td>250.0</td>\n      <td>01-AUG-11</td>\n    </tr>\n    <tr>\n      <th>4</th>\n      <td>Bachmann, Michelle</td>\n      <td>WARDENBURG, HAROLD</td>\n      <td>AR</td>\n      <td>NONE</td>\n      <td>RETIRED</td>\n      <td>300.0</td>\n      <td>20-JUN-11</td>\n    </tr>\n  </tbody>\n</table>\n</div>",
      "text/plain": "              cand_nm           contbr_nm contbr_st        contbr_employer  \\\n0  Bachmann, Michelle     HARVEY, WILLIAM        AL                RETIRED   \n1  Bachmann, Michelle     HARVEY, WILLIAM        AL                RETIRED   \n2  Bachmann, Michelle       SMITH, LANIER        AL  INFORMATION REQUESTED   \n3  Bachmann, Michelle    BLEVINS, DARONDA        AR                   NONE   \n4  Bachmann, Michelle  WARDENBURG, HAROLD        AR                   NONE   \n\n       contbr_occupation  contb_receipt_amt contb_receipt_dt  \n0                RETIRED              250.0        20-JUN-11  \n1                RETIRED               50.0        23-JUN-11  \n2  INFORMATION REQUESTED              250.0        05-JUL-11  \n3                RETIRED              250.0        01-AUG-11  \n4                RETIRED              300.0        20-JUN-11  "
     },
     "execution_count": 3,
     "metadata": {},
     "output_type": "execute_result"
    }
   ],
   "source": [
    "# 数据载入\n",
    "data = pd.read_csv('data/2012_Federal_Election_Commission_Database.csv')\n",
    "data.head()"
   ]
  },
  {
   "cell_type": "markdown",
   "metadata": {},
   "source": [
    "数据中各字段含义如下：\n",
    "\n",
    "- cand_nm – 接受捐赠的候选人姓名\n",
    "- contbr_nm – 捐赠人姓名\n",
    "- contbr_st – 捐赠人所在州\n",
    "- contbr_employer – 捐赠人所在公司\n",
    "- contbr_occupation – 捐赠人职业\n",
    "- contb_receipt_amt – 捐赠数额（美元）\n",
    "- contb_receipt_dt – 收到捐款的日期"
   ]
  },
  {
   "cell_type": "code",
   "execution_count": 6,
   "metadata": {},
   "outputs": [
    {
     "name": "stdout",
     "output_type": "stream",
     "text": "<class 'pandas.core.frame.DataFrame'>\nRangeIndex: 1001731 entries, 0 to 1001730\nData columns (total 7 columns):\n #   Column             Non-Null Count    Dtype  \n---  ------             --------------    -----  \n 0   cand_nm            1001731 non-null  object \n 1   contbr_nm          1001731 non-null  object \n 2   contbr_st          1001727 non-null  object \n 3   contbr_employer    988002 non-null   object \n 4   contbr_occupation  993301 non-null   object \n 5   contb_receipt_amt  1001731 non-null  float64\n 6   contb_receipt_dt   1001731 non-null  object \ndtypes: float64(1), object(6)\nmemory usage: 53.5+ MB\n"
    }
   ],
   "source": [
    "data.info()"
   ]
  },
  {
   "cell_type": "code",
   "execution_count": 7,
   "metadata": {},
   "outputs": [
    {
     "data": {
      "text/html": "<div>\n<style scoped>\n    .dataframe tbody tr th:only-of-type {\n        vertical-align: middle;\n    }\n\n    .dataframe tbody tr th {\n        vertical-align: top;\n    }\n\n    .dataframe thead th {\n        text-align: right;\n    }\n</style>\n<table border=\"1\" class=\"dataframe\">\n  <thead>\n    <tr style=\"text-align: right;\">\n      <th></th>\n      <th>contb_receipt_amt</th>\n    </tr>\n  </thead>\n  <tbody>\n    <tr>\n      <th>count</th>\n      <td>1.001731e+06</td>\n    </tr>\n    <tr>\n      <th>mean</th>\n      <td>2.982352e+02</td>\n    </tr>\n    <tr>\n      <th>std</th>\n      <td>3.749667e+03</td>\n    </tr>\n    <tr>\n      <th>min</th>\n      <td>-3.080000e+04</td>\n    </tr>\n    <tr>\n      <th>25%</th>\n      <td>3.500000e+01</td>\n    </tr>\n    <tr>\n      <th>50%</th>\n      <td>1.000000e+02</td>\n    </tr>\n    <tr>\n      <th>75%</th>\n      <td>2.500000e+02</td>\n    </tr>\n    <tr>\n      <th>max</th>\n      <td>2.014491e+06</td>\n    </tr>\n  </tbody>\n</table>\n</div>",
      "text/plain": "       contb_receipt_amt\ncount       1.001731e+06\nmean        2.982352e+02\nstd         3.749667e+03\nmin        -3.080000e+04\n25%         3.500000e+01\n50%         1.000000e+02\n75%         2.500000e+02\nmax         2.014491e+06"
     },
     "execution_count": 7,
     "metadata": {},
     "output_type": "execute_result"
    }
   ],
   "source": [
    "data.describe()"
   ]
  }
 ]
}