{
 "cells": [
  {
   "cell_type": "code",
   "execution_count": null,
   "metadata": {
    "ExecuteTime": {
     "end_time": "2019-07-11T05:41:48.699193Z",
     "start_time": "2019-07-11T05:41:48.695204Z"
    },
    "pycharm": {
     "is_executing": false
    }
   },
   "outputs": [],
   "source": [
    "import tushare as ts\n",
    "from pyecharts.charts import Line, Kline\n",
    "from pyecharts.options import TitleOpts, InitOpts, AxisOpts, DataZoomOpts\n",
    "from pyecharts.globals import CurrentConfig, NotebookType\n",
    "\n",
    "\n",
    "CurrentConfig.NOTEBOOK_TYPE = NotebookType.JUPYTER_LAB"
   ]
  },
  {
   "cell_type": "code",
   "execution_count": null,
   "metadata": {
    "ExecuteTime": {
     "end_time": "2019-07-11T08:35:29.098075Z",
     "start_time": "2019-07-11T08:35:28.393117Z"
    },
    "pycharm": {
     "is_executing": false,
     "name": "#%%\n"
    }
   },
   "outputs": [],
   "source": [
    "# 获取上海临港股票交易数据\n",
    "pro = ts.pro_api('6f8546eff48df89f84d10ae2adea496080455d581e1c724745a1c8e4')\n",
    "\n",
    "#查询当前所有正常上市交易的股票列表\n",
    "\n",
    "data = pro.stock_basic(exchange='', list_status='L', fields='ts_code,symbol,name,area,industry,list_date')\n",
    "data"
   ]
  },
  {
   "cell_type": "code",
   "execution_count": null,
   "metadata": {
    "ExecuteTime": {
     "end_time": "2019-07-11T08:42:48.826797Z",
     "start_time": "2019-07-11T08:42:48.808846Z"
    },
    "pycharm": {
     "is_executing": false,
     "name": "#%%\n"
    }
   },
   "outputs": [],
   "source": [
    "df = df[::-1]\n",
    "x = df.index.tolist()\n",
    "y = df[['open', 'close', 'low', 'high']].values.tolist()\n",
    "ma5 = df['ma5']\n",
    "ma10 = df['ma10']\n",
    "ma20 = df['ma20']\n",
    "\n",
    "kline = Kline(init_opts=InitOpts())\\\n",
    "    .add_xaxis(x)\\\n",
    "    .add_yaxis('kline', y)\\\n",
    "    .set_global_opts(\n",
    "        xaxis_opts=AxisOpts(is_scale=True),\n",
    "        datazoom_opts=DataZoomOpts(is_show=True)\n",
    "    )\n",
    "\n",
    "kline.render_notebook()"
   ]
  },
  {
   "cell_type": "code",
   "execution_count": null,
   "metadata": {
    "ExecuteTime": {
     "end_time": "2019-07-11T08:42:52.750587Z",
     "start_time": "2019-07-11T08:42:52.744603Z"
    },
    "pycharm": {
     "is_executing": false,
     "name": "#%%\n"
    }
   },
   "outputs": [],
   "source": [
    "x1 = df.index.tolist()\n",
    "y1 = df['open']\n",
    "line = Line()\n",
    "line.add_xaxis(x1)\\\n",
    "    .add_yaxis('开盘价', y1)\\\n",
    "    .add_yaxis('收盘价', df['close'])\\\n",
    "    .set_global_opts(title_opts=TitleOpts(title='开盘价'),  datazoom_opts=DataZoomOpts(is_show=True))\n",
    "line.load_javascript()"
   ]
  },
  {
   "cell_type": "code",
   "execution_count": null,
   "metadata": {
    "ExecuteTime": {
     "end_time": "2019-07-11T08:42:55.591226Z",
     "start_time": "2019-07-11T08:42:55.576292Z"
    },
    "pycharm": {
     "is_executing": false,
     "name": "#%%\n"
    }
   },
   "outputs": [],
   "source": [
    "line.render_notebook()"
   ]
  },
  {
   "cell_type": "code",
   "execution_count": null,
   "metadata": {},
   "outputs": [],
   "source": []
  }
 ],
 "metadata": {
  "hide_input": false,
  "kernelspec": {
   "display_name": "PyCharm (mybinder)",
   "language": "python",
   "name": "pycharm-618a8172"
  },
  "language_info": {
   "codemirror_mode": {
    "name": "ipython",
    "version": 3
   },
   "file_extension": ".py",
   "mimetype": "text/x-python",
   "name": "python",
   "nbconvert_exporter": "python",
   "pygments_lexer": "ipython3",
   "version": "3.7.3"
  },
  "pycharm": {
   "stem_cell": {
    "cell_type": "raw",
    "metadata": {
     "collapsed": false
    },
    "source": []
   }
  },
  "toc": {
   "base_numbering": 1,
   "nav_menu": {},
   "number_sections": true,
   "sideBar": true,
   "skip_h1_title": false,
   "title_cell": "Table of Contents",
   "title_sidebar": "Contents",
   "toc_cell": false,
   "toc_position": {},
   "toc_section_display": true,
   "toc_window_display": false
  },
  "varInspector": {
   "cols": {
    "lenName": 16,
    "lenType": 16,
    "lenVar": 40
   },
   "kernels_config": {
    "python": {
     "delete_cmd_postfix": "",
     "delete_cmd_prefix": "del ",
     "library": "var_list.py",
     "varRefreshCmd": "print(var_dic_list())"
    },
    "r": {
     "delete_cmd_postfix": ") ",
     "delete_cmd_prefix": "rm(",
     "library": "var_list.r",
     "varRefreshCmd": "cat(var_dic_list()) "
    }
   },
   "types_to_exclude": [
    "module",
    "function",
    "builtin_function_or_method",
    "instance",
    "_Feature"
   ],
   "window_display": false
  }
 },
 "nbformat": 4,
 "nbformat_minor": 4
}
